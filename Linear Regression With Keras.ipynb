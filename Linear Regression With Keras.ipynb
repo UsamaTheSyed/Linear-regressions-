{
 "cells": [
  {
   "cell_type": "code",
   "execution_count": 1,
   "metadata": {},
   "outputs": [],
   "source": [
    "from keras.models import Sequential\n",
    "from keras.layers import Dense \n",
    "from keras.optimizers import Adam, SGD\n",
    "\n",
    "%matplotlib inline\n",
    "import matplotlib.pyplot as plt\n",
    "import numpy as np\n",
    "import pandas as pd"
   ]
  },
  {
   "cell_type": "code",
   "execution_count": 2,
   "metadata": {},
   "outputs": [],
   "source": [
    "df=pd.read_csv('data/weight-height.csv')"
   ]
  },
  {
   "cell_type": "code",
   "execution_count": 3,
   "metadata": {},
   "outputs": [],
   "source": [
    "X=df[['Height']].values\n",
    "y_true=df[['Weight']].values"
   ]
  },
  {
   "cell_type": "code",
   "execution_count": 4,
   "metadata": {},
   "outputs": [
    {
     "data": {
      "text/plain": [
       "array([[73.84701702],\n",
       "       [68.78190405],\n",
       "       [74.11010539],\n",
       "       ...,\n",
       "       [63.86799221],\n",
       "       [69.03424313],\n",
       "       [61.94424588]])"
      ]
     },
     "execution_count": 4,
     "metadata": {},
     "output_type": "execute_result"
    }
   ],
   "source": [
    "X"
   ]
  },
  {
   "cell_type": "code",
   "execution_count": 5,
   "metadata": {},
   "outputs": [
    {
     "data": {
      "text/plain": [
       "(10000, 1)"
      ]
     },
     "execution_count": 5,
     "metadata": {},
     "output_type": "execute_result"
    }
   ],
   "source": [
    "X.shape"
   ]
  },
  {
   "cell_type": "code",
   "execution_count": 6,
   "metadata": {},
   "outputs": [],
   "source": [
    "model = Sequential()\n",
    "model.add(Dense(1, input_shape=(1,)))"
   ]
  },
  {
   "cell_type": "code",
   "execution_count": 7,
   "metadata": {},
   "outputs": [
    {
     "name": "stdout",
     "output_type": "stream",
     "text": [
      "Model: \"sequential\"\n",
      "_________________________________________________________________\n",
      "Layer (type)                 Output Shape              Param #   \n",
      "=================================================================\n",
      "dense (Dense)                (None, 1)                 2         \n",
      "=================================================================\n",
      "Total params: 2\n",
      "Trainable params: 2\n",
      "Non-trainable params: 0\n",
      "_________________________________________________________________\n"
     ]
    }
   ],
   "source": [
    "model.summary()"
   ]
  },
  {
   "cell_type": "code",
   "execution_count": 8,
   "metadata": {},
   "outputs": [],
   "source": [
    "model.compile(Adam(lr=0.8), 'mean_squared_error')"
   ]
  },
  {
   "cell_type": "code",
   "execution_count": 9,
   "metadata": {},
   "outputs": [
    {
     "name": "stdout",
     "output_type": "stream",
     "text": [
      "Epoch 1/40\n",
      "313/313 [==============================] - 3s 1ms/step - loss: 1025.7984\n",
      "Epoch 2/40\n",
      "313/313 [==============================] - 0s 1ms/step - loss: 548.7174\n",
      "Epoch 3/40\n",
      "313/313 [==============================] - 0s 1ms/step - loss: 500.9247\n",
      "Epoch 4/40\n",
      "313/313 [==============================] - 0s 1ms/step - loss: 435.7102\n",
      "Epoch 5/40\n",
      "313/313 [==============================] - 0s 1ms/step - loss: 396.7687\n",
      "Epoch 6/40\n",
      "313/313 [==============================] - 0s 1ms/step - loss: 379.7914\n",
      "Epoch 7/40\n",
      "313/313 [==============================] - 0s 894us/step - loss: 338.8208\n",
      "Epoch 8/40\n",
      "313/313 [==============================] - 0s 1ms/step - loss: 318.4995\n",
      "Epoch 9/40\n",
      "313/313 [==============================] - 0s 1ms/step - loss: 280.1934\n",
      "Epoch 10/40\n",
      "313/313 [==============================] - 0s 910us/step - loss: 267.4122\n",
      "Epoch 11/40\n",
      "313/313 [==============================] - 0s 1ms/step - loss: 250.2715\n",
      "Epoch 12/40\n",
      "313/313 [==============================] - 0s 1ms/step - loss: 227.7957\n",
      "Epoch 13/40\n",
      "313/313 [==============================] - 0s 1ms/step - loss: 209.8711\n",
      "Epoch 14/40\n",
      "313/313 [==============================] - 0s 874us/step - loss: 206.9187\n",
      "Epoch 15/40\n",
      "313/313 [==============================] - 0s 1ms/step - loss: 194.1229\n",
      "Epoch 16/40\n",
      "313/313 [==============================] - 0s 1ms/step - loss: 203.6251\n",
      "Epoch 17/40\n",
      "313/313 [==============================] - 0s 1ms/step - loss: 198.3664\n",
      "Epoch 18/40\n",
      "313/313 [==============================] - 0s 1ms/step - loss: 182.9466\n",
      "Epoch 19/40\n",
      "313/313 [==============================] - 0s 2ms/step - loss: 187.6644\n",
      "Epoch 20/40\n",
      "313/313 [==============================] - 0s 1ms/step - loss: 177.2880\n",
      "Epoch 21/40\n",
      "313/313 [==============================] - 1s 2ms/step - loss: 187.3435\n",
      "Epoch 22/40\n",
      "313/313 [==============================] - 0s 1ms/step - loss: 178.0581\n",
      "Epoch 23/40\n",
      "313/313 [==============================] - 0s 1ms/step - loss: 184.5986\n",
      "Epoch 24/40\n",
      "313/313 [==============================] - 0s 1ms/step - loss: 181.6491\n",
      "Epoch 25/40\n",
      "313/313 [==============================] - 0s 1ms/step - loss: 178.9493\n",
      "Epoch 26/40\n",
      "313/313 [==============================] - 0s 1ms/step - loss: 172.3250\n",
      "Epoch 27/40\n",
      "313/313 [==============================] - 0s 1ms/step - loss: 166.3071\n",
      "Epoch 28/40\n",
      "313/313 [==============================] - 0s 1ms/step - loss: 171.8418\n",
      "Epoch 29/40\n",
      "313/313 [==============================] - 0s 2ms/step - loss: 187.3929\n",
      "Epoch 30/40\n",
      "313/313 [==============================] - 0s 1ms/step - loss: 175.1434\n",
      "Epoch 31/40\n",
      "313/313 [==============================] - 0s 1ms/step - loss: 187.4558\n",
      "Epoch 32/40\n",
      "313/313 [==============================] - 0s 1ms/step - loss: 176.1966\n",
      "Epoch 33/40\n",
      "313/313 [==============================] - 0s 1ms/step - loss: 166.2418\n",
      "Epoch 34/40\n",
      "313/313 [==============================] - 0s 1ms/step - loss: 204.2260\n",
      "Epoch 35/40\n",
      "313/313 [==============================] - 0s 1ms/step - loss: 173.5157\n",
      "Epoch 36/40\n",
      "313/313 [==============================] - 0s 1ms/step - loss: 173.6330\n",
      "Epoch 37/40\n",
      "313/313 [==============================] - 0s 954us/step - loss: 173.6592\n",
      "Epoch 38/40\n",
      "313/313 [==============================] - 0s 1ms/step - loss: 187.8607\n",
      "Epoch 39/40\n",
      "313/313 [==============================] - 0s 950us/step - loss: 184.8181\n",
      "Epoch 40/40\n",
      "313/313 [==============================] - 0s 1ms/step - loss: 170.0139\n"
     ]
    },
    {
     "data": {
      "text/plain": [
       "<tensorflow.python.keras.callbacks.History at 0x1a9c30b36a0>"
      ]
     },
     "execution_count": 9,
     "metadata": {},
     "output_type": "execute_result"
    }
   ],
   "source": [
    "model.fit(X,y_true, epochs=40)"
   ]
  },
  {
   "cell_type": "code",
   "execution_count": 10,
   "metadata": {},
   "outputs": [],
   "source": [
    "y_pred=model.predict(X)"
   ]
  },
  {
   "cell_type": "code",
   "execution_count": 11,
   "metadata": {},
   "outputs": [
    {
     "data": {
      "text/plain": [
       "array([[214.2236  ],\n",
       "       [175.6174  ],\n",
       "       [216.22885 ],\n",
       "       ...,\n",
       "       [138.1636  ],\n",
       "       [177.54068 ],\n",
       "       [123.500824]], dtype=float32)"
      ]
     },
     "execution_count": 11,
     "metadata": {},
     "output_type": "execute_result"
    }
   ],
   "source": [
    "y_pred"
   ]
  },
  {
   "cell_type": "code",
   "execution_count": 12,
   "metadata": {},
   "outputs": [
    {
     "data": {
      "text/plain": [
       "[<matplotlib.lines.Line2D at 0x1a9c442e880>]"
      ]
     },
     "execution_count": 12,
     "metadata": {},
     "output_type": "execute_result"
    },
    {
     "data": {
      "image/png": "[encoded data removed]",
      "text/plain": [
       "<Figure size 432x288 with 1 Axes>"
      ]
     },
     "metadata": {
      "needs_background": "light"
     },
     "output_type": "display_data"
    }
   ],
   "source": [
    "df.plot(kind='scatter',\n",
    "       x='Height',\n",
    "       y='Weight', title='Weight and Height in adults')\n",
    "plt.plot(X, y_pred, color='red', linewidth=3)"
   ]
  },
  {
   "cell_type": "code",
   "execution_count": 13,
   "metadata": {},
   "outputs": [],
   "source": [
    "w,b=model.get_weights()"
   ]
  },
  {
   "cell_type": "code",
   "execution_count": 14,
   "metadata": {},
   "outputs": [
    {
     "data": {
      "text/plain": [
       "array([[7.6219854]], dtype=float32)"
      ]
     },
     "execution_count": 14,
     "metadata": {},
     "output_type": "execute_result"
    }
   ],
   "source": [
    "w"
   ]
  },
  {
   "cell_type": "code",
   "execution_count": 15,
   "metadata": {},
   "outputs": [
    {
     "data": {
      "text/plain": [
       "array([-348.6373], dtype=float32)"
      ]
     },
     "execution_count": 15,
     "metadata": {},
     "output_type": "execute_result"
    }
   ],
   "source": [
    "b"
   ]
  },
  {
   "cell_type": "code",
   "execution_count": 16,
   "metadata": {},
   "outputs": [
    {
     "data": {
      "text/plain": [
       "10000"
      ]
     },
     "execution_count": 16,
     "metadata": {},
     "output_type": "execute_result"
    }
   ],
   "source": [
    "len(X)"
   ]
  },
  {
   "cell_type": "code",
   "execution_count": 17,
   "metadata": {},
   "outputs": [],
   "source": [
    "model.save('m.h5')"
   ]
  },
  {
   "cell_type": "code",
   "execution_count": 18,
   "metadata": {},
   "outputs": [
    {
     "data": {
      "text/plain": [
       "array([[1175.7598]], dtype=float32)"
      ]
     },
     "execution_count": 18,
     "metadata": {},
     "output_type": "execute_result"
    }
   ],
   "source": [
    "model.predict([[200]])"
   ]
  },
  {
   "cell_type": "code",
   "execution_count": 19,
   "metadata": {},
   "outputs": [
    {
     "data": {
      "text/plain": [
       "array([[413.56125]], dtype=float32)"
      ]
     },
     "execution_count": 19,
     "metadata": {},
     "output_type": "execute_result"
    }
   ],
   "source": [
    "model.predict([[100]])"
   ]
  },
  {
   "cell_type": "code",
   "execution_count": null,
   "metadata": {},
   "outputs": [],
   "source": []
  }
 ],
 "metadata": {
  "kernelspec": {
   "display_name": "Python 3",
   "language": "python",
   "name": "python3"
  },
  "language_info": {
   "codemirror_mode": {
    "name": "ipython",
    "version": 3
   },
   "file_extension": ".py",
   "mimetype": "text/x-python",
   "name": "python",
   "nbconvert_exporter": "python",
   "pygments_lexer": "ipython3",
   "version": "3.8.5"
  }
 },
 "nbformat": 4,
 "nbformat_minor": 2
}
